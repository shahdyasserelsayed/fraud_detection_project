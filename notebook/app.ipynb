{
 "cells": [
  {
   "cell_type": "code",
   "execution_count": 3,
   "id": "3b5e3a32-d704-44b8-bbf8-bc4595f00bca",
   "metadata": {
    "scrolled": true
   },
   "outputs": [
    {
     "name": "stderr",
     "output_type": "stream",
     "text": [
      "2025-07-24 23:06:16.830 Thread 'MainThread': missing ScriptRunContext! This warning can be ignored when running in bare mode.\n",
      "2025-07-24 23:06:16.832 Thread 'MainThread': missing ScriptRunContext! This warning can be ignored when running in bare mode.\n",
      "2025-07-24 23:06:16.834 Thread 'MainThread': missing ScriptRunContext! This warning can be ignored when running in bare mode.\n",
      "2025-07-24 23:06:16.838 Thread 'MainThread': missing ScriptRunContext! This warning can be ignored when running in bare mode.\n",
      "2025-07-24 23:06:16.840 Thread 'MainThread': missing ScriptRunContext! This warning can be ignored when running in bare mode.\n",
      "2025-07-24 23:06:16.843 Thread 'MainThread': missing ScriptRunContext! This warning can be ignored when running in bare mode.\n",
      "2025-07-24 23:06:16.846 Thread 'MainThread': missing ScriptRunContext! This warning can be ignored when running in bare mode.\n",
      "2025-07-24 23:06:16.848 Thread 'MainThread': missing ScriptRunContext! This warning can be ignored when running in bare mode.\n",
      "2025-07-24 23:06:16.849 Thread 'MainThread': missing ScriptRunContext! This warning can be ignored when running in bare mode.\n",
      "2025-07-24 23:06:16.867 Thread 'MainThread': missing ScriptRunContext! This warning can be ignored when running in bare mode.\n",
      "2025-07-24 23:06:16.869 Thread 'MainThread': missing ScriptRunContext! This warning can be ignored when running in bare mode.\n",
      "2025-07-24 23:06:16.871 Thread 'MainThread': missing ScriptRunContext! This warning can be ignored when running in bare mode.\n",
      "2025-07-24 23:06:16.873 Thread 'MainThread': missing ScriptRunContext! This warning can be ignored when running in bare mode.\n",
      "2025-07-24 23:06:16.875 Thread 'MainThread': missing ScriptRunContext! This warning can be ignored when running in bare mode.\n",
      "2025-07-24 23:06:16.876 Thread 'MainThread': missing ScriptRunContext! This warning can be ignored when running in bare mode.\n"
     ]
    }
   ],
   "source": [
    "import streamlit as st\n",
    "import pandas as pd\n",
    "import joblib\n",
    "\n",
    "st.title(\"🛑 Fraud Detection App 🛑 \")\n",
    "st.write(\"BY:Shahd Yasser\")\n",
    "st.write(\"Welcome to the app! Here you can detect fraud cases.\")\n",
    "\n",
    "# Load model and scaler\n",
    "model = joblib.load(r\"C:\\Users\\starr\\OneDrive\\Desktop\\fraud_detection_project\\model\\model.pkl\")\n",
    "scaler = joblib.load(r\"C:\\Users\\starr\\OneDrive\\Desktop\\fraud_detection_project\\model\\scaler.pkl\")\n",
    "\n",
    "# Upload CSV\n",
    "uploaded_file = st.file_uploader(\"Upload transaction CSV\", type=[\"csv\"])\n",
    "\n",
    "if uploaded_file:\n",
    "    data = pd.read_csv(uploaded_file)\n",
    "\n",
    "    # Drop non-feature columns (those not used during training)\n",
    "    X = data.drop(columns=['Time', 'Class'], errors='ignore')\n",
    "\n",
    "    # Scale using the same scaler\n",
    "    X_scaled = scaler.transform(X)\n",
    "\n",
    "    # Make predictions\n",
    "    predictions = model.predict(X_scaled)\n",
    "\n",
    "    # Add prediction column to original data\n",
    "    data['Prediction'] = predictions\n",
    "    st.write(data)\n",
    "\n",
    "    fraud_count = data['Prediction'].sum()\n",
    "    st.success(f\"🚨 {fraud_count} potentially fraudulent transactions detected.\")"
   ]
  },
  {
   "cell_type": "code",
   "execution_count": null,
   "id": "1c5b2c24-5443-4f62-970f-76d3277c5eaf",
   "metadata": {},
   "outputs": [],
   "source": []
  }
 ],
 "metadata": {
  "kernelspec": {
   "display_name": "Python 3 (ipykernel)",
   "language": "python",
   "name": "python3"
  },
  "language_info": {
   "codemirror_mode": {
    "name": "ipython",
    "version": 3
   },
   "file_extension": ".py",
   "mimetype": "text/x-python",
   "name": "python",
   "nbconvert_exporter": "python",
   "pygments_lexer": "ipython3",
   "version": "3.11.7"
  }
 },
 "nbformat": 4,
 "nbformat_minor": 5
}
